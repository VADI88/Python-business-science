{
 "cells": [
  {
   "cell_type": "markdown",
   "metadata": {},
   "source": [
    "# Challenge #1 - Build Your Data Wrangling Skills\n",
    "\n",
    "<small>Python for Data Science Automation Course (DS4B 101-P)</small><br>\n",
    "<small>Business Science</small> "
   ]
  },
  {
   "cell_type": "markdown",
   "metadata": {},
   "source": [
    "## Challenge Summary\n",
    "\n",
    "This is a short challenge to begin applying what you are learning to the course project. You will go through a series of questions related to the project goals:\n",
    "\n",
    "1. Forecasting Revenue By Products\n",
    "\n",
    "2. Forecasting Revenue By Customers\n",
    "\n",
    "### Management Request\n",
    "\n",
    "In the final report automations, management has requested an annual summary for the last five years. You know that we can make this with a pivot table. "
   ]
  },
  {
   "attachments": {
    "7bf53550-7799-4416-a31c-a86d38bf5eae.png": {
     "image/png": "[encoded data removed]"
    }
   },
   "cell_type": "markdown",
   "metadata": {},
   "source": [
    "\n",
    "![image.png](attachment:7bf53550-7799-4416-a31c-a86d38bf5eae.png)"
   ]
  },
  {
   "cell_type": "markdown",
   "metadata": {},
   "source": [
    "### Task\n",
    "\n",
    "Use your `pandas` data wrangling skills to make a chart that summarizes annual sales by customer."
   ]
  },
  {
   "cell_type": "markdown",
   "metadata": {},
   "source": [
    "## Objectives:\n",
    "\n",
    "1. Apply `pandas` functions to answer questions related to the course project.\n",
    "\n",
    "2. Gain exposure to `jupyter` notebooks and labs"
   ]
  },
  {
   "cell_type": "markdown",
   "metadata": {},
   "source": [
    "## Getting Started"
   ]
  },
  {
   "cell_type": "markdown",
   "metadata": {},
   "source": [
    "### Check Working Directory"
   ]
  },
  {
   "cell_type": "markdown",
   "metadata": {},
   "source": [
    "To read in the data, make sure your current working directory is set to the project directory. Two useful [jupyter magic commands](https://ipython.readthedocs.io/en/stable/interactive/magics.html) are:\n",
    "\n",
    "1. `%pwd`: [Print working directory](https://ipython.readthedocs.io/en/stable/interactive/magics.html#magic-cd) (you can detect your current directory)\n",
    "2. `%cd`: You can [change directory](https://ipython.readthedocs.io/en/stable/interactive/magics.html#magic-cd) to your working directory using relative paths or full paths. \n"
   ]
  },
  {
   "cell_type": "code",
   "metadata": {
    "ExecuteTime": {
     "end_time": "2025-06-22T21:23:30.282845Z",
     "start_time": "2025-06-22T21:23:30.258699Z"
    }
   },
   "source": "%pwd",
   "outputs": [
    {
     "data": {
      "text/plain": [
       "'/Users/vadiveld/PycharmProjects/Python-Business-science/Challenge 1 2'"
      ]
     },
     "execution_count": 1,
     "metadata": {},
     "output_type": "execute_result"
    }
   ],
   "execution_count": 1
  },
  {
   "cell_type": "code",
   "metadata": {
    "ExecuteTime": {
     "end_time": "2025-06-22T21:23:32.388044Z",
     "start_time": "2025-06-22T21:23:32.352747Z"
    }
   },
   "source": [
    "%cd ../"
   ],
   "outputs": [
    {
     "name": "stdout",
     "output_type": "stream",
     "text": [
      "/Users/vadiveld/PycharmProjects/Python-Business-science\n"
     ]
    },
    {
     "name": "stderr",
     "output_type": "stream",
     "text": [
      "/Users/vadiveld/PycharmProjects/Python-Business-science/.venv/lib/python3.10/site-packages/IPython/core/magics/osm.py:417: UserWarning: This is now an optional IPython functionality, setting dhist requires you to install the `pickleshare` library.\n",
      "  self.shell.db['dhist'] = compress_dhist(dhist)[-100:]\n"
     ]
    }
   ],
   "execution_count": 2
  },
  {
   "cell_type": "markdown",
   "metadata": {},
   "source": [
    "### Python Package Imports"
   ]
  },
  {
   "cell_type": "code",
   "metadata": {
    "ExecuteTime": {
     "end_time": "2025-06-22T21:23:45.123046Z",
     "start_time": "2025-06-22T21:23:42.437760Z"
    }
   },
   "source": [
    "# imports\n",
    "import pandas as pd\n",
    "import numpy as np\n",
    "from mizani.formatters import currency_format\n",
    "from path import Path\n",
    "\n",
    "from transformer.bike_order_transformer import BikeOrderTransformer"
   ],
   "outputs": [],
   "execution_count": 3
  },
  {
   "metadata": {
    "ExecuteTime": {
     "end_time": "2025-06-22T21:26:05.829834Z",
     "start_time": "2025-06-22T21:26:05.823189Z"
    }
   },
   "cell_type": "code",
   "source": [
    "database_folder_path = Path(\"/Users/vadiveld/PycharmProjects/Python-Business-science/data/database\")\n",
    "challenge_folder_path = Path(\"/Users/vadiveld/PycharmProjects/Python-Business-science/Challenge 1 2/\")\n",
    "conn_string = f\"sqlite:///{database_folder_path}/bikes_order_database.sqlite\"\n"
   ],
   "outputs": [],
   "execution_count": 13
  },
  {
   "metadata": {},
   "cell_type": "markdown",
   "source": "### Import Data"
  },
  {
   "metadata": {
    "ExecuteTime": {
     "end_time": "2025-06-22T21:23:49.655060Z",
     "start_time": "2025-06-22T21:23:49.236559Z"
    }
   },
   "cell_type": "code",
   "source": [
    "\n",
    "bike_order_line_df = BikeOrderTransformer(conn_string).transform_data()"
   ],
   "outputs": [],
   "execution_count": 5
  },
  {
   "metadata": {
    "ExecuteTime": {
     "end_time": "2025-06-22T21:23:50.312022Z",
     "start_time": "2025-06-22T21:23:50.212535Z"
    }
   },
   "cell_type": "code",
   "source": "bike_order_line_df.head()",
   "outputs": [
    {
     "data": {
      "text/plain": [
       "   order_id  order_line           order_date                     model  \\\n",
       "0         1           1  2011-01-07 00:00:00           Jekyll Carbon 2   \n",
       "1         1           2  2011-01-07 00:00:00          Trigger Carbon 2   \n",
       "2         2           1  2011-01-10 00:00:00       Beast of the East 1   \n",
       "3         2           2  2011-01-10 00:00:00          Trigger Carbon 2   \n",
       "4         3           1  2011-01-10 00:00:00  Supersix Evo Hi-Mod Team   \n",
       "\n",
       "   quantity  price  total_price              bikeshop_name         location  \\\n",
       "0         1   6070         6070   Ithaca Mountain Climbers       Ithaca, NY   \n",
       "1         1   5970         5970   Ithaca Mountain Climbers       Ithaca, NY   \n",
       "2         1   2770         2770          Kansas City 29ers  Kansas City, KS   \n",
       "3         1   5970         5970          Kansas City 29ers  Kansas City, KS   \n",
       "4         1  10660        10660  Louisville Race Equipment   Louisville, KY   \n",
       "\n",
       "  category_1     category_2 frame_material         city state  \n",
       "0   Mountain  Over Mountain         Carbon       Ithaca    NY  \n",
       "1   Mountain  Over Mountain         Carbon       Ithaca    NY  \n",
       "2   Mountain          Trail       Aluminum  Kansas City    KS  \n",
       "3   Mountain  Over Mountain         Carbon  Kansas City    KS  \n",
       "4       Road     Elite Road         Carbon   Louisville    KY  "
      ],
      "text/html": [
       "<div>\n",
       "<style scoped>\n",
       "    .dataframe tbody tr th:only-of-type {\n",
       "        vertical-align: middle;\n",
       "    }\n",
       "\n",
       "    .dataframe tbody tr th {\n",
       "        vertical-align: top;\n",
       "    }\n",
       "\n",
       "    .dataframe thead th {\n",
       "        text-align: right;\n",
       "    }\n",
       "</style>\n",
       "<table border=\"1\" class=\"dataframe\">\n",
       "  <thead>\n",
       "    <tr style=\"text-align: right;\">\n",
       "      <th></th>\n",
       "      <th>order_id</th>\n",
       "      <th>order_line</th>\n",
       "      <th>order_date</th>\n",
       "      <th>model</th>\n",
       "      <th>quantity</th>\n",
       "      <th>price</th>\n",
       "      <th>total_price</th>\n",
       "      <th>bikeshop_name</th>\n",
       "      <th>location</th>\n",
       "      <th>category_1</th>\n",
       "      <th>category_2</th>\n",
       "      <th>frame_material</th>\n",
       "      <th>city</th>\n",
       "      <th>state</th>\n",
       "    </tr>\n",
       "  </thead>\n",
       "  <tbody>\n",
       "    <tr>\n",
       "      <th>0</th>\n",
       "      <td>1</td>\n",
       "      <td>1</td>\n",
       "      <td>2011-01-07 00:00:00</td>\n",
       "      <td>Jekyll Carbon 2</td>\n",
       "      <td>1</td>\n",
       "      <td>6070</td>\n",
       "      <td>6070</td>\n",
       "      <td>Ithaca Mountain Climbers</td>\n",
       "      <td>Ithaca, NY</td>\n",
       "      <td>Mountain</td>\n",
       "      <td>Over Mountain</td>\n",
       "      <td>Carbon</td>\n",
       "      <td>Ithaca</td>\n",
       "      <td>NY</td>\n",
       "    </tr>\n",
       "    <tr>\n",
       "      <th>1</th>\n",
       "      <td>1</td>\n",
       "      <td>2</td>\n",
       "      <td>2011-01-07 00:00:00</td>\n",
       "      <td>Trigger Carbon 2</td>\n",
       "      <td>1</td>\n",
       "      <td>5970</td>\n",
       "      <td>5970</td>\n",
       "      <td>Ithaca Mountain Climbers</td>\n",
       "      <td>Ithaca, NY</td>\n",
       "      <td>Mountain</td>\n",
       "      <td>Over Mountain</td>\n",
       "      <td>Carbon</td>\n",
       "      <td>Ithaca</td>\n",
       "      <td>NY</td>\n",
       "    </tr>\n",
       "    <tr>\n",
       "      <th>2</th>\n",
       "      <td>2</td>\n",
       "      <td>1</td>\n",
       "      <td>2011-01-10 00:00:00</td>\n",
       "      <td>Beast of the East 1</td>\n",
       "      <td>1</td>\n",
       "      <td>2770</td>\n",
       "      <td>2770</td>\n",
       "      <td>Kansas City 29ers</td>\n",
       "      <td>Kansas City, KS</td>\n",
       "      <td>Mountain</td>\n",
       "      <td>Trail</td>\n",
       "      <td>Aluminum</td>\n",
       "      <td>Kansas City</td>\n",
       "      <td>KS</td>\n",
       "    </tr>\n",
       "    <tr>\n",
       "      <th>3</th>\n",
       "      <td>2</td>\n",
       "      <td>2</td>\n",
       "      <td>2011-01-10 00:00:00</td>\n",
       "      <td>Trigger Carbon 2</td>\n",
       "      <td>1</td>\n",
       "      <td>5970</td>\n",
       "      <td>5970</td>\n",
       "      <td>Kansas City 29ers</td>\n",
       "      <td>Kansas City, KS</td>\n",
       "      <td>Mountain</td>\n",
       "      <td>Over Mountain</td>\n",
       "      <td>Carbon</td>\n",
       "      <td>Kansas City</td>\n",
       "      <td>KS</td>\n",
       "    </tr>\n",
       "    <tr>\n",
       "      <th>4</th>\n",
       "      <td>3</td>\n",
       "      <td>1</td>\n",
       "      <td>2011-01-10 00:00:00</td>\n",
       "      <td>Supersix Evo Hi-Mod Team</td>\n",
       "      <td>1</td>\n",
       "      <td>10660</td>\n",
       "      <td>10660</td>\n",
       "      <td>Louisville Race Equipment</td>\n",
       "      <td>Louisville, KY</td>\n",
       "      <td>Road</td>\n",
       "      <td>Elite Road</td>\n",
       "      <td>Carbon</td>\n",
       "      <td>Louisville</td>\n",
       "      <td>KY</td>\n",
       "    </tr>\n",
       "  </tbody>\n",
       "</table>\n",
       "</div>"
      ]
     },
     "execution_count": 6,
     "metadata": {},
     "output_type": "execute_result"
    }
   ],
   "execution_count": 6
  },
  {
   "metadata": {},
   "cell_type": "markdown",
   "source": "We'll use the following packages in this challenge. "
  },
  {
   "metadata": {},
   "cell_type": "markdown",
   "source": "## Challenge"
  },
  {
   "metadata": {},
   "cell_type": "markdown",
   "source": "Perform the following tasks. "
  },
  {
   "metadata": {},
   "cell_type": "markdown",
   "source": "### Task 1: Groupby, Resample, Summarize Your Raw Data"
  },
  {
   "metadata": {},
   "cell_type": "markdown",
   "source": [
    "1. Start with `df`\n",
    "2. Select the columns \"bikeshop_name\", \"order_date\", and \"total_price\"\n",
    "3. Unite the text \"Bikeshop \" to the begining of bikeshop_name (e.g. 'Albuquerque Cycles' should become 'Bikeshop Albuquerque Cycles')\n",
    "4. Rename the columns: 'id', 'date', and 'value'\n",
    "5. Set the index to the 'date' column\n",
    "6. Group by the 'id' column\n",
    "7. Resample yearly (start of the year)\n",
    "8. Aggregate using sum\n",
    "9. Reset the index\n",
    "11. Save the output as `summary_df_1`"
   ]
  },
  {
   "metadata": {},
   "cell_type": "code",
   "outputs": [],
   "execution_count": null,
   "source": ""
  },
  {
   "metadata": {
    "ExecuteTime": {
     "end_time": "2025-06-22T21:24:31.880543Z",
     "start_time": "2025-06-22T21:24:31.845180Z"
    }
   },
   "cell_type": "code",
   "source": "bike_order_line_df['order_date'] = pd.to_datetime(bike_order_line_df['order_date'])",
   "outputs": [],
   "execution_count": 9
  },
  {
   "metadata": {
    "ExecuteTime": {
     "end_time": "2025-06-22T21:24:55.656054Z",
     "start_time": "2025-06-22T21:24:54.892719Z"
    }
   },
   "cell_type": "code",
   "source": [
    "# Code\n",
    "summary_df_1 = (\n",
    "    bike_order_line_df\n",
    "    [['bikeshop_name','order_date','total_price']]\\\n",
    "    .assign(bikeshop_name = lambda x:'Bikeshop ' + x['bikeshop_name'])\n",
    "    .rename(columns = {'bikeshop_name' : 'id','order_date' : 'date', 'total_price':'value'})\n",
    "    .set_index('date')\n",
    "    .groupby('id')\n",
    "    .resample('YS')\n",
    "    .agg(value = ('value','sum'))\n",
    "    .reset_index()\n",
    ")\n",
    "\n"
   ],
   "outputs": [
    {
     "name": "stderr",
     "output_type": "stream",
     "text": [
      "/var/folders/hh/8c9bdtz97vs7pb_m1p4ff4wm0000gn/T/ipykernel_61758/2295354161.py:3: FutureWarning: DataFrameGroupBy.resample operated on the grouping columns. This behavior is deprecated, and in a future version of pandas the grouping columns will be excluded from the operation. Either pass `include_groups=False` to exclude the groupings or explicitly select the grouping columns after groupby to silence this warning.\n",
      "  bike_order_line_df\n"
     ]
    }
   ],
   "execution_count": 11
  },
  {
   "cell_type": "markdown",
   "metadata": {},
   "source": [
    "### Task 2: Pivot and Format Your Summary Table"
   ]
  },
  {
   "cell_type": "code",
   "metadata": {
    "ExecuteTime": {
     "end_time": "2025-06-22T21:26:23.070512Z",
     "start_time": "2025-06-22T21:26:23.056169Z"
    }
   },
   "source": "summary_df_1 = pd.read_pickle(challenge_folder_path/\"data/summary_df_1.pkl\")",
   "outputs": [],
   "execution_count": 14
  },
  {
   "cell_type": "markdown",
   "metadata": {},
   "source": [
    "1. Start with `summary_df_1`\n",
    "2. Format the date as year using the dt accessor\n",
    "2. Pivot the data using id as the id, date as the columns, and the summarized total_price as the values\n",
    "4. Save the result as `summary_df_2`"
   ]
  },
  {
   "metadata": {
    "ExecuteTime": {
     "end_time": "2025-06-22T21:27:56.102325Z",
     "start_time": "2025-06-22T21:27:56.094120Z"
    }
   },
   "cell_type": "code",
   "source": "summary_df_1.columns",
   "outputs": [
    {
     "data": {
      "text/plain": [
       "Index(['id', 'date', 'value'], dtype='object')"
      ]
     },
     "execution_count": 17,
     "metadata": {},
     "output_type": "execute_result"
    }
   ],
   "execution_count": 17
  },
  {
   "cell_type": "code",
   "metadata": {
    "ExecuteTime": {
     "end_time": "2025-06-22T21:28:22.980781Z",
     "start_time": "2025-06-22T21:28:22.969658Z"
    }
   },
   "source": [
    "# Code\n",
    "summary_df_2 = (summary_df_1 \n",
    " .assign(date = lambda x:x['date'].dt.year)\n",
    " .pivot(index = 'id',columns = 'date',values = 'value')\n",
    ")\n"
   ],
   "outputs": [],
   "execution_count": 20
  },
  {
   "cell_type": "markdown",
   "metadata": {},
   "source": [
    "### Task 3: Make a USD Dollar Converter"
   ]
  },
  {
   "cell_type": "markdown",
   "metadata": {},
   "source": [
    "1. Make a `usd = dollar_format()` that converts `usd([1000])` into `$1000`.\n",
    "2. Prove that it works. Convert a list of `[100, 1000, 10000]` to a list of text-dollar values. "
   ]
  },
  {
   "cell_type": "code",
   "metadata": {
    "ExecuteTime": {
     "end_time": "2025-06-22T21:48:08.100289Z",
     "start_time": "2025-06-22T21:48:08.071046Z"
    }
   },
   "source": [
    "# Code\n",
    "usd = currency_format(prefix = '$',big_mark=',', precision = 0)\n"
   ],
   "outputs": [],
   "execution_count": 21
  },
  {
   "cell_type": "code",
   "metadata": {
    "ExecuteTime": {
     "end_time": "2025-06-22T21:48:10.860310Z",
     "start_time": "2025-06-22T21:48:10.844084Z"
    }
   },
   "source": [
    "usd([100, 1000, 1000])"
   ],
   "outputs": [
    {
     "data": {
      "text/plain": [
       "['$100', '$1,000', '$1,000']"
      ]
     },
     "execution_count": 22,
     "metadata": {},
     "output_type": "execute_result"
    }
   ],
   "execution_count": 22
  },
  {
   "cell_type": "markdown",
   "metadata": {},
   "source": [
    "### Task 4: Apply styles to your table"
   ]
  },
  {
   "cell_type": "code",
   "metadata": {
    "ExecuteTime": {
     "end_time": "2025-06-22T21:48:40.094178Z",
     "start_time": "2025-06-22T21:48:40.080750Z"
    }
   },
   "source": "summary_df_2 = pd.read_pickle(challenge_folder_path / \"data/summary_df_2.pkl\")",
   "outputs": [],
   "execution_count": 23
  },
  {
   "cell_type": "markdown",
   "metadata": {},
   "source": [
    "1. Start with `summary_df_2`.\n",
    "2. Use `df.style.highlight_max()` to highlight the maximum values\n",
    "3. Apply the `usd()` function using `.format(lambda x: [YOUR CODE HERE])`. Hint: You'll need to work with casting to lists and extract elements from lists. "
   ]
  },
  {
   "cell_type": "code",
   "metadata": {
    "ExecuteTime": {
     "end_time": "2025-06-22T21:51:03.685585Z",
     "start_time": "2025-06-22T21:51:03.648425Z"
    }
   },
   "source": [
    "# Code\n",
    "(summary_df_2\n",
    " .style.highlight_max()\n",
    "  .format(lambda x: usd([x])[0])\n",
    " )\n",
    "\n",
    "\n"
   ],
   "outputs": [
    {
     "data": {
      "text/plain": [
       "<pandas.io.formats.style.Styler at 0x12025bcd0>"
      ],
      "text/html": [
       "<style type=\"text/css\">\n",
       "#T_7ebbf_row6_col0, #T_7ebbf_row10_col1, #T_7ebbf_row10_col2, #T_7ebbf_row10_col3, #T_7ebbf_row10_col4 {\n",
       "  background-color: yellow;\n",
       "}\n",
       "</style>\n",
       "<table id=\"T_7ebbf\">\n",
       "  <thead>\n",
       "    <tr>\n",
       "      <th class=\"index_name level0\" >date</th>\n",
       "      <th id=\"T_7ebbf_level0_col0\" class=\"col_heading level0 col0\" >2011</th>\n",
       "      <th id=\"T_7ebbf_level0_col1\" class=\"col_heading level0 col1\" >2012</th>\n",
       "      <th id=\"T_7ebbf_level0_col2\" class=\"col_heading level0 col2\" >2013</th>\n",
       "      <th id=\"T_7ebbf_level0_col3\" class=\"col_heading level0 col3\" >2014</th>\n",
       "      <th id=\"T_7ebbf_level0_col4\" class=\"col_heading level0 col4\" >2015</th>\n",
       "    </tr>\n",
       "    <tr>\n",
       "      <th class=\"index_name level0\" >id</th>\n",
       "      <th class=\"blank col0\" >&nbsp;</th>\n",
       "      <th class=\"blank col1\" >&nbsp;</th>\n",
       "      <th class=\"blank col2\" >&nbsp;</th>\n",
       "      <th class=\"blank col3\" >&nbsp;</th>\n",
       "      <th class=\"blank col4\" >&nbsp;</th>\n",
       "    </tr>\n",
       "  </thead>\n",
       "  <tbody>\n",
       "    <tr>\n",
       "      <th id=\"T_7ebbf_level0_row0\" class=\"row_heading level0 row0\" >Bikeshop Albuquerque Cycles</th>\n",
       "      <td id=\"T_7ebbf_row0_col0\" class=\"data row0 col0\" >$104,260</td>\n",
       "      <td id=\"T_7ebbf_row0_col1\" class=\"data row0 col1\" >$81,035</td>\n",
       "      <td id=\"T_7ebbf_row0_col2\" class=\"data row0 col2\" >$300,400</td>\n",
       "      <td id=\"T_7ebbf_row0_col3\" class=\"data row0 col3\" >$244,580</td>\n",
       "      <td id=\"T_7ebbf_row0_col4\" class=\"data row0 col4\" >$272,605</td>\n",
       "    </tr>\n",
       "    <tr>\n",
       "      <th id=\"T_7ebbf_level0_row1\" class=\"row_heading level0 row1\" >Bikeshop Ann Arbor Speed</th>\n",
       "      <td id=\"T_7ebbf_row1_col0\" class=\"data row1 col0\" >$435,430</td>\n",
       "      <td id=\"T_7ebbf_row1_col1\" class=\"data row1 col1\" >$565,625</td>\n",
       "      <td id=\"T_7ebbf_row1_col2\" class=\"data row1 col2\" >$86,780</td>\n",
       "      <td id=\"T_7ebbf_row1_col3\" class=\"data row1 col3\" >$308,725</td>\n",
       "      <td id=\"T_7ebbf_row1_col4\" class=\"data row1 col4\" >$577,350</td>\n",
       "    </tr>\n",
       "    <tr>\n",
       "      <th id=\"T_7ebbf_level0_row2\" class=\"row_heading level0 row2\" >Bikeshop Austin Cruisers</th>\n",
       "      <td id=\"T_7ebbf_row2_col0\" class=\"data row2 col0\" >$70,155</td>\n",
       "      <td id=\"T_7ebbf_row2_col1\" class=\"data row2 col1\" >$215,310</td>\n",
       "      <td id=\"T_7ebbf_row2_col2\" class=\"data row2 col2\" >$114,870</td>\n",
       "      <td id=\"T_7ebbf_row2_col3\" class=\"data row2 col3\" >$25,615</td>\n",
       "      <td id=\"T_7ebbf_row2_col4\" class=\"data row2 col4\" >$262,935</td>\n",
       "    </tr>\n",
       "    <tr>\n",
       "      <th id=\"T_7ebbf_level0_row3\" class=\"row_heading level0 row3\" >Bikeshop Cincinnati Speed</th>\n",
       "      <td id=\"T_7ebbf_row3_col0\" class=\"data row3 col0\" >$359,800</td>\n",
       "      <td id=\"T_7ebbf_row3_col1\" class=\"data row3 col1\" >$272,440</td>\n",
       "      <td id=\"T_7ebbf_row3_col2\" class=\"data row3 col2\" >$430,545</td>\n",
       "      <td id=\"T_7ebbf_row3_col3\" class=\"data row3 col3\" >$313,260</td>\n",
       "      <td id=\"T_7ebbf_row3_col4\" class=\"data row3 col4\" >$482,990</td>\n",
       "    </tr>\n",
       "    <tr>\n",
       "      <th id=\"T_7ebbf_level0_row4\" class=\"row_heading level0 row4\" >Bikeshop Columbus Race Equipment</th>\n",
       "      <td id=\"T_7ebbf_row4_col0\" class=\"data row4 col0\" >$3,200</td>\n",
       "      <td id=\"T_7ebbf_row4_col1\" class=\"data row4 col1\" >$324,300</td>\n",
       "      <td id=\"T_7ebbf_row4_col2\" class=\"data row4 col2\" >$767,975</td>\n",
       "      <td id=\"T_7ebbf_row4_col3\" class=\"data row4 col3\" >$302,870</td>\n",
       "      <td id=\"T_7ebbf_row4_col4\" class=\"data row4 col4\" >$368,660</td>\n",
       "    </tr>\n",
       "    <tr>\n",
       "      <th id=\"T_7ebbf_level0_row5\" class=\"row_heading level0 row5\" >Bikeshop Dallas Cycles</th>\n",
       "      <td id=\"T_7ebbf_row5_col0\" class=\"data row5 col0\" >$168,295</td>\n",
       "      <td id=\"T_7ebbf_row5_col1\" class=\"data row5 col1\" >$180,590</td>\n",
       "      <td id=\"T_7ebbf_row5_col2\" class=\"data row5 col2\" >$218,905</td>\n",
       "      <td id=\"T_7ebbf_row5_col3\" class=\"data row5 col3\" >$47,190</td>\n",
       "      <td id=\"T_7ebbf_row5_col4\" class=\"data row5 col4\" >$66,100</td>\n",
       "    </tr>\n",
       "    <tr>\n",
       "      <th id=\"T_7ebbf_level0_row6\" class=\"row_heading level0 row6\" >Bikeshop Denver Bike Shop</th>\n",
       "      <td id=\"T_7ebbf_row6_col0\" class=\"data row6 col0\" >$1,812,640</td>\n",
       "      <td id=\"T_7ebbf_row6_col1\" class=\"data row6 col1\" >$1,292,015</td>\n",
       "      <td id=\"T_7ebbf_row6_col2\" class=\"data row6 col2\" >$1,411,365</td>\n",
       "      <td id=\"T_7ebbf_row6_col3\" class=\"data row6 col3\" >$1,570,640</td>\n",
       "      <td id=\"T_7ebbf_row6_col4\" class=\"data row6 col4\" >$1,611,010</td>\n",
       "    </tr>\n",
       "    <tr>\n",
       "      <th id=\"T_7ebbf_level0_row7\" class=\"row_heading level0 row7\" >Bikeshop Detroit Cycles</th>\n",
       "      <td id=\"T_7ebbf_row7_col0\" class=\"data row7 col0\" >$156,255</td>\n",
       "      <td id=\"T_7ebbf_row7_col1\" class=\"data row7 col1\" >$162,165</td>\n",
       "      <td id=\"T_7ebbf_row7_col2\" class=\"data row7 col2\" >$636,535</td>\n",
       "      <td id=\"T_7ebbf_row7_col3\" class=\"data row7 col3\" >$408,450</td>\n",
       "      <td id=\"T_7ebbf_row7_col4\" class=\"data row7 col4\" >$274,440</td>\n",
       "    </tr>\n",
       "    <tr>\n",
       "      <th id=\"T_7ebbf_level0_row8\" class=\"row_heading level0 row8\" >Bikeshop Indianapolis Velocipedes</th>\n",
       "      <td id=\"T_7ebbf_row8_col0\" class=\"data row8 col0\" >$108,760</td>\n",
       "      <td id=\"T_7ebbf_row8_col1\" class=\"data row8 col1\" >$133,555</td>\n",
       "      <td id=\"T_7ebbf_row8_col2\" class=\"data row8 col2\" >$165,015</td>\n",
       "      <td id=\"T_7ebbf_row8_col3\" class=\"data row8 col3\" >$336,615</td>\n",
       "      <td id=\"T_7ebbf_row8_col4\" class=\"data row8 col4\" >$197,060</td>\n",
       "    </tr>\n",
       "    <tr>\n",
       "      <th id=\"T_7ebbf_level0_row9\" class=\"row_heading level0 row9\" >Bikeshop Ithaca Mountain Climbers</th>\n",
       "      <td id=\"T_7ebbf_row9_col0\" class=\"data row9 col0\" >$679,730</td>\n",
       "      <td id=\"T_7ebbf_row9_col1\" class=\"data row9 col1\" >$975,770</td>\n",
       "      <td id=\"T_7ebbf_row9_col2\" class=\"data row9 col2\" >$1,248,635</td>\n",
       "      <td id=\"T_7ebbf_row9_col3\" class=\"data row9 col3\" >$1,573,385</td>\n",
       "      <td id=\"T_7ebbf_row9_col4\" class=\"data row9 col4\" >$1,821,815</td>\n",
       "    </tr>\n",
       "    <tr>\n",
       "      <th id=\"T_7ebbf_level0_row10\" class=\"row_heading level0 row10\" >Bikeshop Kansas City 29ers</th>\n",
       "      <td id=\"T_7ebbf_row10_col0\" class=\"data row10 col0\" >$1,406,855</td>\n",
       "      <td id=\"T_7ebbf_row10_col1\" class=\"data row10 col1\" >$2,169,185</td>\n",
       "      <td id=\"T_7ebbf_row10_col2\" class=\"data row10 col2\" >$2,838,040</td>\n",
       "      <td id=\"T_7ebbf_row10_col3\" class=\"data row10 col3\" >$2,035,495</td>\n",
       "      <td id=\"T_7ebbf_row10_col4\" class=\"data row10 col4\" >$3,085,880</td>\n",
       "    </tr>\n",
       "    <tr>\n",
       "      <th id=\"T_7ebbf_level0_row11\" class=\"row_heading level0 row11\" >Bikeshop Las Vegas Cycles</th>\n",
       "      <td id=\"T_7ebbf_row11_col0\" class=\"data row11 col0\" >$456,320</td>\n",
       "      <td id=\"T_7ebbf_row11_col1\" class=\"data row11 col1\" >$365,380</td>\n",
       "      <td id=\"T_7ebbf_row11_col2\" class=\"data row11 col2\" >$667,095</td>\n",
       "      <td id=\"T_7ebbf_row11_col3\" class=\"data row11 col3\" >$606,900</td>\n",
       "      <td id=\"T_7ebbf_row11_col4\" class=\"data row11 col4\" >$977,920</td>\n",
       "    </tr>\n",
       "    <tr>\n",
       "      <th id=\"T_7ebbf_level0_row12\" class=\"row_heading level0 row12\" >Bikeshop Los Angeles Cycles</th>\n",
       "      <td id=\"T_7ebbf_row12_col0\" class=\"data row12 col0\" >$95,335</td>\n",
       "      <td id=\"T_7ebbf_row12_col1\" class=\"data row12 col1\" >$62,420</td>\n",
       "      <td id=\"T_7ebbf_row12_col2\" class=\"data row12 col2\" >$268,795</td>\n",
       "      <td id=\"T_7ebbf_row12_col3\" class=\"data row12 col3\" >$174,690</td>\n",
       "      <td id=\"T_7ebbf_row12_col4\" class=\"data row12 col4\" >$360,810</td>\n",
       "    </tr>\n",
       "    <tr>\n",
       "      <th id=\"T_7ebbf_level0_row13\" class=\"row_heading level0 row13\" >Bikeshop Louisville Race Equipment</th>\n",
       "      <td id=\"T_7ebbf_row13_col0\" class=\"data row13 col0\" >$153,290</td>\n",
       "      <td id=\"T_7ebbf_row13_col1\" class=\"data row13 col1\" >$391,545</td>\n",
       "      <td id=\"T_7ebbf_row13_col2\" class=\"data row13 col2\" >$381,410</td>\n",
       "      <td id=\"T_7ebbf_row13_col3\" class=\"data row13 col3\" >$393,775</td>\n",
       "      <td id=\"T_7ebbf_row13_col4\" class=\"data row13 col4\" >$614,780</td>\n",
       "    </tr>\n",
       "    <tr>\n",
       "      <th id=\"T_7ebbf_level0_row14\" class=\"row_heading level0 row14\" >Bikeshop Miami Race Equipment</th>\n",
       "      <td id=\"T_7ebbf_row14_col0\" class=\"data row14 col0\" >$310,365</td>\n",
       "      <td id=\"T_7ebbf_row14_col1\" class=\"data row14 col1\" >$391,825</td>\n",
       "      <td id=\"T_7ebbf_row14_col2\" class=\"data row14 col2\" >$888,720</td>\n",
       "      <td id=\"T_7ebbf_row14_col3\" class=\"data row14 col3\" >$224,625</td>\n",
       "      <td id=\"T_7ebbf_row14_col4\" class=\"data row14 col4\" >$241,595</td>\n",
       "    </tr>\n",
       "    <tr>\n",
       "      <th id=\"T_7ebbf_level0_row15\" class=\"row_heading level0 row15\" >Bikeshop Minneapolis Bike Shop</th>\n",
       "      <td id=\"T_7ebbf_row15_col0\" class=\"data row15 col0\" >$426,850</td>\n",
       "      <td id=\"T_7ebbf_row15_col1\" class=\"data row15 col1\" >$335,055</td>\n",
       "      <td id=\"T_7ebbf_row15_col2\" class=\"data row15 col2\" >$269,945</td>\n",
       "      <td id=\"T_7ebbf_row15_col3\" class=\"data row15 col3\" >$392,645</td>\n",
       "      <td id=\"T_7ebbf_row15_col4\" class=\"data row15 col4\" >$598,725</td>\n",
       "    </tr>\n",
       "    <tr>\n",
       "      <th id=\"T_7ebbf_level0_row16\" class=\"row_heading level0 row16\" >Bikeshop Nashville Cruisers</th>\n",
       "      <td id=\"T_7ebbf_row16_col0\" class=\"data row16 col0\" >$55,080</td>\n",
       "      <td id=\"T_7ebbf_row16_col1\" class=\"data row16 col1\" >$189,080</td>\n",
       "      <td id=\"T_7ebbf_row16_col2\" class=\"data row16 col2\" >$157,030</td>\n",
       "      <td id=\"T_7ebbf_row16_col3\" class=\"data row16 col3\" >$234,410</td>\n",
       "      <td id=\"T_7ebbf_row16_col4\" class=\"data row16 col4\" >$437,325</td>\n",
       "    </tr>\n",
       "    <tr>\n",
       "      <th id=\"T_7ebbf_level0_row17\" class=\"row_heading level0 row17\" >Bikeshop New Orleans Velocipedes</th>\n",
       "      <td id=\"T_7ebbf_row17_col0\" class=\"data row17 col0\" >$387,335</td>\n",
       "      <td id=\"T_7ebbf_row17_col1\" class=\"data row17 col1\" >$190,470</td>\n",
       "      <td id=\"T_7ebbf_row17_col2\" class=\"data row17 col2\" >$764,285</td>\n",
       "      <td id=\"T_7ebbf_row17_col3\" class=\"data row17 col3\" >$832,240</td>\n",
       "      <td id=\"T_7ebbf_row17_col4\" class=\"data row17 col4\" >$587,495</td>\n",
       "    </tr>\n",
       "    <tr>\n",
       "      <th id=\"T_7ebbf_level0_row18\" class=\"row_heading level0 row18\" >Bikeshop New York Cycles</th>\n",
       "      <td id=\"T_7ebbf_row18_col0\" class=\"data row18 col0\" >$279,605</td>\n",
       "      <td id=\"T_7ebbf_row18_col1\" class=\"data row18 col1\" >$388,100</td>\n",
       "      <td id=\"T_7ebbf_row18_col2\" class=\"data row18 col2\" >$366,840</td>\n",
       "      <td id=\"T_7ebbf_row18_col3\" class=\"data row18 col3\" >$99,140</td>\n",
       "      <td id=\"T_7ebbf_row18_col4\" class=\"data row18 col4\" >$240,940</td>\n",
       "    </tr>\n",
       "    <tr>\n",
       "      <th id=\"T_7ebbf_level0_row19\" class=\"row_heading level0 row19\" >Bikeshop Oklahoma City Race Equipment</th>\n",
       "      <td id=\"T_7ebbf_row19_col0\" class=\"data row19 col0\" >$898,490</td>\n",
       "      <td id=\"T_7ebbf_row19_col1\" class=\"data row19 col1\" >$436,595</td>\n",
       "      <td id=\"T_7ebbf_row19_col2\" class=\"data row19 col2\" >$733,870</td>\n",
       "      <td id=\"T_7ebbf_row19_col3\" class=\"data row19 col3\" >$579,155</td>\n",
       "      <td id=\"T_7ebbf_row19_col4\" class=\"data row19 col4\" >$801,930</td>\n",
       "    </tr>\n",
       "    <tr>\n",
       "      <th id=\"T_7ebbf_level0_row20\" class=\"row_heading level0 row20\" >Bikeshop Philadelphia Bike Shop</th>\n",
       "      <td id=\"T_7ebbf_row20_col0\" class=\"data row20 col0\" >$71,085</td>\n",
       "      <td id=\"T_7ebbf_row20_col1\" class=\"data row20 col1\" >$201,400</td>\n",
       "      <td id=\"T_7ebbf_row20_col2\" class=\"data row20 col2\" >$222,750</td>\n",
       "      <td id=\"T_7ebbf_row20_col3\" class=\"data row20 col3\" >$188,845</td>\n",
       "      <td id=\"T_7ebbf_row20_col4\" class=\"data row20 col4\" >$90,470</td>\n",
       "    </tr>\n",
       "    <tr>\n",
       "      <th id=\"T_7ebbf_level0_row21\" class=\"row_heading level0 row21\" >Bikeshop Phoenix Bi-peds</th>\n",
       "      <td id=\"T_7ebbf_row21_col0\" class=\"data row21 col0\" >$640,495</td>\n",
       "      <td id=\"T_7ebbf_row21_col1\" class=\"data row21 col1\" >$590,505</td>\n",
       "      <td id=\"T_7ebbf_row21_col2\" class=\"data row21 col2\" >$1,228,720</td>\n",
       "      <td id=\"T_7ebbf_row21_col3\" class=\"data row21 col3\" >$782,180</td>\n",
       "      <td id=\"T_7ebbf_row21_col4\" class=\"data row21 col4\" >$926,635</td>\n",
       "    </tr>\n",
       "    <tr>\n",
       "      <th id=\"T_7ebbf_level0_row22\" class=\"row_heading level0 row22\" >Bikeshop Pittsburgh Mountain Machines</th>\n",
       "      <td id=\"T_7ebbf_row22_col0\" class=\"data row22 col0\" >$117,035</td>\n",
       "      <td id=\"T_7ebbf_row22_col1\" class=\"data row22 col1\" >$144,300</td>\n",
       "      <td id=\"T_7ebbf_row22_col2\" class=\"data row22 col2\" >$641,335</td>\n",
       "      <td id=\"T_7ebbf_row22_col3\" class=\"data row22 col3\" >$591,765</td>\n",
       "      <td id=\"T_7ebbf_row22_col4\" class=\"data row22 col4\" >$260,985</td>\n",
       "    </tr>\n",
       "    <tr>\n",
       "      <th id=\"T_7ebbf_level0_row23\" class=\"row_heading level0 row23\" >Bikeshop Portland Bi-peds</th>\n",
       "      <td id=\"T_7ebbf_row23_col0\" class=\"data row23 col0\" >$355,300</td>\n",
       "      <td id=\"T_7ebbf_row23_col1\" class=\"data row23 col1\" >$759,420</td>\n",
       "      <td id=\"T_7ebbf_row23_col2\" class=\"data row23 col2\" >$315,750</td>\n",
       "      <td id=\"T_7ebbf_row23_col3\" class=\"data row23 col3\" >$337,215</td>\n",
       "      <td id=\"T_7ebbf_row23_col4\" class=\"data row23 col4\" >$204,445</td>\n",
       "    </tr>\n",
       "    <tr>\n",
       "      <th id=\"T_7ebbf_level0_row24\" class=\"row_heading level0 row24\" >Bikeshop Providence Bi-peds</th>\n",
       "      <td id=\"T_7ebbf_row24_col0\" class=\"data row24 col0\" >$343,725</td>\n",
       "      <td id=\"T_7ebbf_row24_col1\" class=\"data row24 col1\" >$231,925</td>\n",
       "      <td id=\"T_7ebbf_row24_col2\" class=\"data row24 col2\" >$155,200</td>\n",
       "      <td id=\"T_7ebbf_row24_col3\" class=\"data row24 col3\" >$374,250</td>\n",
       "      <td id=\"T_7ebbf_row24_col4\" class=\"data row24 col4\" >$520,610</td>\n",
       "    </tr>\n",
       "    <tr>\n",
       "      <th id=\"T_7ebbf_level0_row25\" class=\"row_heading level0 row25\" >Bikeshop San Antonio Bike Shop</th>\n",
       "      <td id=\"T_7ebbf_row25_col0\" class=\"data row25 col0\" >$143,760</td>\n",
       "      <td id=\"T_7ebbf_row25_col1\" class=\"data row25 col1\" >$52,595</td>\n",
       "      <td id=\"T_7ebbf_row25_col2\" class=\"data row25 col2\" >$218,335</td>\n",
       "      <td id=\"T_7ebbf_row25_col3\" class=\"data row25 col3\" >$93,725</td>\n",
       "      <td id=\"T_7ebbf_row25_col4\" class=\"data row25 col4\" >$65,240</td>\n",
       "    </tr>\n",
       "    <tr>\n",
       "      <th id=\"T_7ebbf_level0_row26\" class=\"row_heading level0 row26\" >Bikeshop San Francisco Cruisers</th>\n",
       "      <td id=\"T_7ebbf_row26_col0\" class=\"data row26 col0\" >$319,565</td>\n",
       "      <td id=\"T_7ebbf_row26_col1\" class=\"data row26 col1\" >$215,810</td>\n",
       "      <td id=\"T_7ebbf_row26_col2\" class=\"data row26 col2\" >$520,500</td>\n",
       "      <td id=\"T_7ebbf_row26_col3\" class=\"data row26 col3\" >$396,425</td>\n",
       "      <td id=\"T_7ebbf_row26_col4\" class=\"data row26 col4\" >$188,170</td>\n",
       "    </tr>\n",
       "    <tr>\n",
       "      <th id=\"T_7ebbf_level0_row27\" class=\"row_heading level0 row27\" >Bikeshop Seattle Race Equipment</th>\n",
       "      <td id=\"T_7ebbf_row27_col0\" class=\"data row27 col0\" >$100,395</td>\n",
       "      <td id=\"T_7ebbf_row27_col1\" class=\"data row27 col1\" >$15,630</td>\n",
       "      <td id=\"T_7ebbf_row27_col2\" class=\"data row27 col2\" >$61,610</td>\n",
       "      <td id=\"T_7ebbf_row27_col3\" class=\"data row27 col3\" >$111,820</td>\n",
       "      <td id=\"T_7ebbf_row27_col4\" class=\"data row27 col4\" >$86,440</td>\n",
       "    </tr>\n",
       "    <tr>\n",
       "      <th id=\"T_7ebbf_level0_row28\" class=\"row_heading level0 row28\" >Bikeshop Tampa 29ers</th>\n",
       "      <td id=\"T_7ebbf_row28_col0\" class=\"data row28 col0\" >$368,725</td>\n",
       "      <td id=\"T_7ebbf_row28_col1\" class=\"data row28 col1\" >$169,205</td>\n",
       "      <td id=\"T_7ebbf_row28_col2\" class=\"data row28 col2\" >$230,815</td>\n",
       "      <td id=\"T_7ebbf_row28_col3\" class=\"data row28 col3\" >$31,870</td>\n",
       "      <td id=\"T_7ebbf_row28_col4\" class=\"data row28 col4\" >$170,630</td>\n",
       "    </tr>\n",
       "    <tr>\n",
       "      <th id=\"T_7ebbf_level0_row29\" class=\"row_heading level0 row29\" >Bikeshop Wichita Speed</th>\n",
       "      <td id=\"T_7ebbf_row29_col0\" class=\"data row29 col0\" >$464,750</td>\n",
       "      <td id=\"T_7ebbf_row29_col1\" class=\"data row29 col1\" >$659,825</td>\n",
       "      <td id=\"T_7ebbf_row29_col2\" class=\"data row29 col2\" >$168,705</td>\n",
       "      <td id=\"T_7ebbf_row29_col3\" class=\"data row29 col3\" >$311,585</td>\n",
       "      <td id=\"T_7ebbf_row29_col4\" class=\"data row29 col4\" >$775,520</td>\n",
       "    </tr>\n",
       "  </tbody>\n",
       "</table>\n"
      ]
     },
     "execution_count": 26,
     "metadata": {},
     "output_type": "execute_result"
    }
   ],
   "execution_count": 26
  },
  {
   "cell_type": "markdown",
   "metadata": {},
   "source": [
    "## Nice Work\n",
    "\n",
    "This challenge tested your wrangling abilities. If you nailed it, you're doing awesome. If you didn't, guess what - You're still awesome too! Keep in mind you're learning, it takes time, and these challenges are meant to be *challenging*. "
   ]
  },
  {
   "cell_type": "code",
   "execution_count": null,
   "metadata": {},
   "outputs": [],
   "source": []
  }
 ],
 "metadata": {
  "kernelspec": {
   "display_name": "Python 3",
   "language": "python",
   "name": "python3"
  },
  "language_info": {
   "codemirror_mode": {
    "name": "ipython",
    "version": 3
   },
   "file_extension": ".py",
   "mimetype": "text/x-python",
   "name": "python",
   "nbconvert_exporter": "python",
   "pygments_lexer": "ipython3",
   "version": "3.7.1"
  },
  "toc-autonumbering": false
 },
 "nbformat": 4,
 "nbformat_minor": 4
}
